{
 "cells": [
  {
   "cell_type": "code",
   "execution_count": 16,
   "metadata": {},
   "outputs": [],
   "source": [
    "import numpy as np\n",
    "import pandas as pd"
   ]
  },
  {
   "cell_type": "code",
   "execution_count": 17,
   "metadata": {},
   "outputs": [],
   "source": [
    "base = pd.read_csv('C:/Users/thais/OneDrive/Documentos/Diretório theuzas/regressão/enem_2019_tratado.csv',\n",
    "                   sep=',', encoding='iso-8859-1')"
   ]
  },
  {
   "cell_type": "code",
   "execution_count": 18,
   "metadata": {},
   "outputs": [
    {
     "data": {
      "text/plain": [
       "(499940, 28)"
      ]
     },
     "execution_count": 18,
     "metadata": {},
     "output_type": "execute_result"
    }
   ],
   "source": [
    "base.shape"
   ]
  },
  {
   "cell_type": "code",
   "execution_count": 19,
   "metadata": {},
   "outputs": [
    {
     "data": {
      "text/plain": [
       "NU_INSCRICAO                    0\n",
       "NO_MUNICIPIO_RESIDENCIA         0\n",
       "IDADE                           0\n",
       "SEXO                            0\n",
       "TP_ESTADO_CIVIL                 0\n",
       "RACA                            0\n",
       "TP_NACIONALIDADE                0\n",
       "TP_ST_CONCLUSAO                 0\n",
       "ESCOLA                          0\n",
       "CO_ESCOLA                  323046\n",
       "NO_MUNICIPIO_ESC           323046\n",
       "TP_PRESENCA_CN                  0\n",
       "TP_PRESENCA_CH                  0\n",
       "TP_PRESENCA_LC                  0\n",
       "TP_PRESENCA_MT                  0\n",
       "NOTA_CN                         0\n",
       "NOTA_CH                         0\n",
       "NOTA_LC                         0\n",
       "NOTA_MT                         0\n",
       "TP_LINGUA                       0\n",
       "TP_STATUS_REDACAO               0\n",
       "COMP1                           0\n",
       "COMP2                           0\n",
       "COMP3                           0\n",
       "COMP4                           0\n",
       "COMP5                           0\n",
       "NOTA_REDACAO                    0\n",
       "INTERNET                        0\n",
       "dtype: int64"
      ]
     },
     "execution_count": 19,
     "metadata": {},
     "output_type": "execute_result"
    }
   ],
   "source": [
    "base.isnull().sum()"
   ]
  },
  {
   "cell_type": "code",
   "execution_count": 20,
   "metadata": {},
   "outputs": [],
   "source": [
    "base2 = base"
   ]
  },
  {
   "cell_type": "code",
   "execution_count": 21,
   "metadata": {},
   "outputs": [],
   "source": [
    "base2 = base2.drop(columns='CO_ESCOLA') # EXCLUINDO VARIAVEIS Q TEM NA E N PRECISA PARA A ANALISE\n",
    "base2 = base2.drop(columns='NO_MUNICIPIO_ESC')"
   ]
  },
  {
   "cell_type": "code",
   "execution_count": 22,
   "metadata": {},
   "outputs": [
    {
     "data": {
      "text/plain": [
       "NU_INSCRICAO                object\n",
       "NO_MUNICIPIO_RESIDENCIA     object\n",
       "IDADE                        int64\n",
       "SEXO                        object\n",
       "TP_ESTADO_CIVIL              int64\n",
       "RACA                        object\n",
       "TP_NACIONALIDADE             int64\n",
       "TP_ST_CONCLUSAO              int64\n",
       "ESCOLA                      object\n",
       "TP_PRESENCA_CN               int64\n",
       "TP_PRESENCA_CH               int64\n",
       "TP_PRESENCA_LC               int64\n",
       "TP_PRESENCA_MT               int64\n",
       "NOTA_CN                    float64\n",
       "NOTA_CH                    float64\n",
       "NOTA_LC                    float64\n",
       "NOTA_MT                    float64\n",
       "TP_LINGUA                   object\n",
       "TP_STATUS_REDACAO          float64\n",
       "COMP1                      float64\n",
       "COMP2                      float64\n",
       "COMP3                      float64\n",
       "COMP4                      float64\n",
       "COMP5                      float64\n",
       "NOTA_REDACAO               float64\n",
       "INTERNET                    object\n",
       "dtype: object"
      ]
     },
     "execution_count": 22,
     "metadata": {},
     "output_type": "execute_result"
    }
   ],
   "source": [
    "base2.dtypes"
   ]
  },
  {
   "cell_type": "code",
   "execution_count": 23,
   "metadata": {},
   "outputs": [],
   "source": [
    "import statsmodels.formula.api as smf\n",
    "import statsmodels.stats.api as sms"
   ]
  },
  {
   "cell_type": "code",
   "execution_count": 24,
   "metadata": {},
   "outputs": [],
   "source": [
    "# criação do modelo \n",
    "\n",
    "modelo1 = smf.ols('NOTA_REDACAO~IDADE+TP_ST_CONCLUSAO+COMP1+COMP2+COMP3+COMP4+COMP5', data=base2).fit()"
   ]
  },
  {
   "cell_type": "code",
   "execution_count": 25,
   "metadata": {},
   "outputs": [
    {
     "data": {
      "text/plain": [
       "0         1.136868e-13\n",
       "1        -1.591616e-12\n",
       "2        -1.364242e-12\n",
       "3        -1.591616e-12\n",
       "4         0.000000e+00\n",
       "              ...     \n",
       "499935   -1.250555e-12\n",
       "499936   -2.160050e-12\n",
       "499937   -1.477929e-12\n",
       "499938   -1.136868e-12\n",
       "499939   -9.094947e-13\n",
       "Length: 499940, dtype: float64"
      ]
     },
     "execution_count": 25,
     "metadata": {},
     "output_type": "execute_result"
    }
   ],
   "source": [
    "residuos = modelo1.resid\n",
    "residuos"
   ]
  },
  {
   "cell_type": "code",
   "execution_count": 26,
   "metadata": {},
   "outputs": [
    {
     "name": "stderr",
     "output_type": "stream",
     "text": [
      "c:\\Users\\thais\\anaconda3\\Lib\\site-packages\\scipy\\stats\\_morestats.py:1882: UserWarning: p-value may not be accurate for N > 5000.\n",
      "  warnings.warn(\"p-value may not be accurate for N > 5000.\")\n"
     ]
    },
    {
     "data": {
      "text/plain": [
       "ShapiroResult(statistic=0.7777347564697266, pvalue=0.0)"
      ]
     },
     "execution_count": 26,
     "metadata": {},
     "output_type": "execute_result"
    }
   ],
   "source": [
    "# normalidade nos residuos\n",
    "\n",
    "import scipy.stats as stats\n",
    "\n",
    "stats.shapiro(residuos)"
   ]
  },
  {
   "cell_type": "code",
   "execution_count": 27,
   "metadata": {},
   "outputs": [
    {
     "data": {
      "image/png": "[encoded data removed]",
      "text/plain": [
       "<Figure size 640x480 with 1 Axes>"
      ]
     },
     "metadata": {},
     "output_type": "display_data"
    }
   ],
   "source": [
    "import matplotlib.pyplot as plt\n",
    "\n",
    "stats.probplot(residuos, dist='norm', plot=plt)\n",
    "plt.show()"
   ]
  },
  {
   "cell_type": "code",
   "execution_count": 28,
   "metadata": {},
   "outputs": [],
   "source": [
    "# analise da homocedasticidade\n",
    "\n",
    "from statsmodels.compat import lzip\n",
    "import statsmodels.stats.api as sms"
   ]
  },
  {
   "cell_type": "code",
   "execution_count": 29,
   "metadata": {},
   "outputs": [
    {
     "data": {
      "text/plain": [
       "(320037.19962138665, 0.0, 127050.22374336008, 0.0)"
      ]
     },
     "execution_count": 29,
     "metadata": {},
     "output_type": "execute_result"
    }
   ],
   "source": [
    "sms.het_breuschpagan(modelo1.resid, modelo1.model.exog)"
   ]
  },
  {
   "cell_type": "code",
   "execution_count": 30,
   "metadata": {},
   "outputs": [],
   "source": [
    "# outliers no residuo\n",
    "\n",
    "#outliers = modelo1.outlier_test()\n"
   ]
  },
  {
   "cell_type": "code",
   "execution_count": 31,
   "metadata": {},
   "outputs": [
    {
     "data": {
      "text/plain": [
       "1.6320128683689994"
      ]
     },
     "execution_count": 31,
     "metadata": {},
     "output_type": "execute_result"
    }
   ],
   "source": [
    "# independencia dos resíduos\n",
    "\n",
    "# a estatística do teste é 2*(1-r), onde r é autocorrelação dos resíduos. Assim para r=0, a estatística do teste \n",
    "# é igual a 2, indicando independência dos resíduos (o resultado vai de 0 a 4) \n",
    "\n",
    "import statsmodels\n",
    "import statsmodels.stats\n",
    "import statsmodels.stats.stattools\n",
    "from statsmodels.tools.sm_exceptions import ValueWarning\n",
    "\n",
    "estatis = statsmodels.stats.stattools.durbin_watson(modelo1.resid)\n",
    "estatis"
   ]
  },
  {
   "cell_type": "code",
   "execution_count": 32,
   "metadata": {},
   "outputs": [
    {
     "data": {
      "text/plain": [
       "<bound method NDFrame.head of         IDADE  TP_ST_CONCLUSAO  COMP1  COMP2  COMP3  COMP4  COMP5\n",
       "0          22                1  160.0  200.0  180.0  200.0  200.0\n",
       "1          17                2  160.0  120.0  200.0  200.0  200.0\n",
       "2          19                2   80.0  160.0  120.0  100.0  100.0\n",
       "3          17                2  120.0  120.0  120.0  120.0   80.0\n",
       "4          23                1  160.0  200.0  180.0  180.0  160.0\n",
       "...       ...              ...    ...    ...    ...    ...    ...\n",
       "499935     18                1  100.0  120.0  120.0  140.0  100.0\n",
       "499936     17                2   80.0  120.0  140.0  120.0  100.0\n",
       "499937     17                2  120.0   80.0   60.0  120.0    0.0\n",
       "499938     17                2  160.0  120.0  160.0  140.0  160.0\n",
       "499939     18                2  120.0  120.0  120.0  120.0  140.0\n",
       "\n",
       "[499940 rows x 7 columns]>"
      ]
     },
     "execution_count": 32,
     "metadata": {},
     "output_type": "execute_result"
    }
   ],
   "source": [
    "# Multicolinearidade \n",
    "\n",
    "var = base2[['IDADE','TP_ST_CONCLUSAO','COMP1','COMP2','COMP3','COMP4','COMP5']]\n",
    "var.head"
   ]
  },
  {
   "cell_type": "code",
   "execution_count": 33,
   "metadata": {},
   "outputs": [
    {
     "data": {
      "text/html": [
       "<div>\n",
       "<style scoped>\n",
       "    .dataframe tbody tr th:only-of-type {\n",
       "        vertical-align: middle;\n",
       "    }\n",
       "\n",
       "    .dataframe tbody tr th {\n",
       "        vertical-align: top;\n",
       "    }\n",
       "\n",
       "    .dataframe thead th {\n",
       "        text-align: right;\n",
       "    }\n",
       "</style>\n",
       "<table border=\"1\" class=\"dataframe\">\n",
       "  <thead>\n",
       "    <tr style=\"text-align: right;\">\n",
       "      <th></th>\n",
       "      <th>IDADE</th>\n",
       "      <th>TP_ST_CONCLUSAO</th>\n",
       "      <th>COMP1</th>\n",
       "      <th>COMP2</th>\n",
       "      <th>COMP3</th>\n",
       "      <th>COMP4</th>\n",
       "      <th>COMP5</th>\n",
       "    </tr>\n",
       "  </thead>\n",
       "  <tbody>\n",
       "    <tr>\n",
       "      <th>IDADE</th>\n",
       "      <td>1.000000</td>\n",
       "      <td>-0.434499</td>\n",
       "      <td>-0.156264</td>\n",
       "      <td>-0.138625</td>\n",
       "      <td>-0.152176</td>\n",
       "      <td>-0.182703</td>\n",
       "      <td>-0.148348</td>\n",
       "    </tr>\n",
       "    <tr>\n",
       "      <th>TP_ST_CONCLUSAO</th>\n",
       "      <td>-0.434499</td>\n",
       "      <td>1.000000</td>\n",
       "      <td>-0.008287</td>\n",
       "      <td>-0.021282</td>\n",
       "      <td>-0.026388</td>\n",
       "      <td>0.000410</td>\n",
       "      <td>-0.006360</td>\n",
       "    </tr>\n",
       "    <tr>\n",
       "      <th>COMP1</th>\n",
       "      <td>-0.156264</td>\n",
       "      <td>-0.008287</td>\n",
       "      <td>1.000000</td>\n",
       "      <td>0.639200</td>\n",
       "      <td>0.740870</td>\n",
       "      <td>0.779972</td>\n",
       "      <td>0.549231</td>\n",
       "    </tr>\n",
       "    <tr>\n",
       "      <th>COMP2</th>\n",
       "      <td>-0.138625</td>\n",
       "      <td>-0.021282</td>\n",
       "      <td>0.639200</td>\n",
       "      <td>1.000000</td>\n",
       "      <td>0.830398</td>\n",
       "      <td>0.680512</td>\n",
       "      <td>0.631106</td>\n",
       "    </tr>\n",
       "    <tr>\n",
       "      <th>COMP3</th>\n",
       "      <td>-0.152176</td>\n",
       "      <td>-0.026388</td>\n",
       "      <td>0.740870</td>\n",
       "      <td>0.830398</td>\n",
       "      <td>1.000000</td>\n",
       "      <td>0.771946</td>\n",
       "      <td>0.693656</td>\n",
       "    </tr>\n",
       "    <tr>\n",
       "      <th>COMP4</th>\n",
       "      <td>-0.182703</td>\n",
       "      <td>0.000410</td>\n",
       "      <td>0.779972</td>\n",
       "      <td>0.680512</td>\n",
       "      <td>0.771946</td>\n",
       "      <td>1.000000</td>\n",
       "      <td>0.622305</td>\n",
       "    </tr>\n",
       "    <tr>\n",
       "      <th>COMP5</th>\n",
       "      <td>-0.148348</td>\n",
       "      <td>-0.006360</td>\n",
       "      <td>0.549231</td>\n",
       "      <td>0.631106</td>\n",
       "      <td>0.693656</td>\n",
       "      <td>0.622305</td>\n",
       "      <td>1.000000</td>\n",
       "    </tr>\n",
       "  </tbody>\n",
       "</table>\n",
       "</div>"
      ],
      "text/plain": [
       "                    IDADE  TP_ST_CONCLUSAO     COMP1     COMP2     COMP3  \\\n",
       "IDADE            1.000000        -0.434499 -0.156264 -0.138625 -0.152176   \n",
       "TP_ST_CONCLUSAO -0.434499         1.000000 -0.008287 -0.021282 -0.026388   \n",
       "COMP1           -0.156264        -0.008287  1.000000  0.639200  0.740870   \n",
       "COMP2           -0.138625        -0.021282  0.639200  1.000000  0.830398   \n",
       "COMP3           -0.152176        -0.026388  0.740870  0.830398  1.000000   \n",
       "COMP4           -0.182703         0.000410  0.779972  0.680512  0.771946   \n",
       "COMP5           -0.148348        -0.006360  0.549231  0.631106  0.693656   \n",
       "\n",
       "                    COMP4     COMP5  \n",
       "IDADE           -0.182703 -0.148348  \n",
       "TP_ST_CONCLUSAO  0.000410 -0.006360  \n",
       "COMP1            0.779972  0.549231  \n",
       "COMP2            0.680512  0.631106  \n",
       "COMP3            0.771946  0.693656  \n",
       "COMP4            1.000000  0.622305  \n",
       "COMP5            0.622305  1.000000  "
      ]
     },
     "execution_count": 33,
     "metadata": {},
     "output_type": "execute_result"
    }
   ],
   "source": [
    "correlacoes = var.corr(method='pearson')\n",
    "correlacoes\n",
    "\n",
    "# considera multicolinearidade com p>0.9"
   ]
  },
  {
   "cell_type": "code",
   "execution_count": 34,
   "metadata": {},
   "outputs": [
    {
     "data": {
      "text/plain": [
       "const              64.942261\n",
       "IDADE               1.290392\n",
       "TP_ST_CONCLUSAO     1.246694\n",
       "COMP1               2.910273\n",
       "COMP2               3.309590\n",
       "COMP3               5.026433\n",
       "COMP4               3.385162\n",
       "COMP5               2.032711\n",
       "dtype: float64"
      ]
     },
     "execution_count": 34,
     "metadata": {},
     "output_type": "execute_result"
    }
   ],
   "source": [
    "# podemos calcular o fator de inflação de variância \n",
    "# que mede quanto a variância do coeficiente estimado para uma variável é inflada devido à multicolinearidade com as outras variáveis independentes. \n",
    "# VIFs maiores que 10 indicam alta multicolinearidade, enquanto valores entre 5 e 10 podem ser preocupantes\n",
    "\n",
    "from statsmodels.stats.outliers_influence import variance_inflation_factor\n",
    "from statsmodels.tools.tools import add_constant\n",
    "\n",
    "vif = add_constant(var)\n",
    "pd.Series([variance_inflation_factor(vif.values, j) for j in range(vif.shape[1])], index=vif.columns)"
   ]
  },
  {
   "cell_type": "code",
   "execution_count": 35,
   "metadata": {},
   "outputs": [
    {
     "name": "stdout",
     "output_type": "stream",
     "text": [
      "                            OLS Regression Results                            \n",
      "==============================================================================\n",
      "Dep. Variable:           NOTA_REDACAO   R-squared:                       1.000\n",
      "Model:                            OLS   Adj. R-squared:                  1.000\n",
      "Method:                 Least Squares   F-statistic:                 1.036e+33\n",
      "Date:                Tue, 18 Jun 2024   Prob (F-statistic):               0.00\n",
      "Time:                        09:10:04   Log-Likelihood:             1.2931e+07\n",
      "No. Observations:              499940   AIC:                        -2.586e+07\n",
      "Df Residuals:                  499932   BIC:                        -2.586e+07\n",
      "Df Model:                           7                                         \n",
      "Covariance Type:            nonrobust                                         \n",
      "===================================================================================\n",
      "                      coef    std err          t      P>|t|      [0.025      0.975]\n",
      "-----------------------------------------------------------------------------------\n",
      "Intercept        4.178e-12   1.61e-14    258.868      0.000    4.15e-12    4.21e-12\n",
      "IDADE            -1.83e-13   3.52e-16   -519.958      0.000   -1.84e-13   -1.82e-13\n",
      "TP_ST_CONCLUSAO  2.984e-13   4.38e-15     68.109      0.000     2.9e-13    3.07e-13\n",
      "COMP1               1.0000   1.19e-16   8.38e+15      0.000       1.000       1.000\n",
      "COMP2               1.0000   9.14e-17   1.09e+16      0.000       1.000       1.000\n",
      "COMP3               1.0000   1.22e-16   8.19e+15      0.000       1.000       1.000\n",
      "COMP4               1.0000   1.09e-16   9.19e+15      0.000       1.000       1.000\n",
      "COMP5               1.0000   4.94e-17   2.02e+16      0.000       1.000       1.000\n",
      "==============================================================================\n",
      "Omnibus:                   259643.211   Durbin-Watson:                   1.632\n",
      "Prob(Omnibus):                  0.000   Jarque-Bera (JB):          1875893.056\n",
      "Skew:                           2.439   Prob(JB):                         0.00\n",
      "Kurtosis:                      11.140   Cond. No.                     2.27e+03\n",
      "==============================================================================\n",
      "\n",
      "Notes:\n",
      "[1] Standard Errors assume that the covariance matrix of the errors is correctly specified.\n",
      "[2] The condition number is large, 2.27e+03. This might indicate that there are\n",
      "strong multicollinearity or other numerical problems.\n"
     ]
    }
   ],
   "source": [
    "print(modelo1.summary())"
   ]
  },
  {
   "cell_type": "code",
   "execution_count": 36,
   "metadata": {},
   "outputs": [],
   "source": [
    "predict = modelo1.predict()"
   ]
  },
  {
   "cell_type": "code",
   "execution_count": 37,
   "metadata": {},
   "outputs": [],
   "source": [
    "base2['previsao'] = modelo1.fittedvalues"
   ]
  },
  {
   "cell_type": "code",
   "execution_count": 38,
   "metadata": {},
   "outputs": [],
   "source": [
    "dad = base2['previsao'] == base2['NOTA_REDACAO']"
   ]
  },
  {
   "cell_type": "code",
   "execution_count": 39,
   "metadata": {},
   "outputs": [
    {
     "data": {
      "text/html": [
       "<div>\n",
       "<style scoped>\n",
       "    .dataframe tbody tr th:only-of-type {\n",
       "        vertical-align: middle;\n",
       "    }\n",
       "\n",
       "    .dataframe tbody tr th {\n",
       "        vertical-align: top;\n",
       "    }\n",
       "\n",
       "    .dataframe thead th {\n",
       "        text-align: right;\n",
       "    }\n",
       "</style>\n",
       "<table border=\"1\" class=\"dataframe\">\n",
       "  <thead>\n",
       "    <tr style=\"text-align: right;\">\n",
       "      <th></th>\n",
       "      <th>NU_INSCRICAO</th>\n",
       "      <th>NO_MUNICIPIO_RESIDENCIA</th>\n",
       "      <th>IDADE</th>\n",
       "      <th>SEXO</th>\n",
       "      <th>TP_ESTADO_CIVIL</th>\n",
       "      <th>RACA</th>\n",
       "      <th>TP_NACIONALIDADE</th>\n",
       "      <th>TP_ST_CONCLUSAO</th>\n",
       "      <th>ESCOLA</th>\n",
       "      <th>TP_PRESENCA_CN</th>\n",
       "      <th>...</th>\n",
       "      <th>TP_LINGUA</th>\n",
       "      <th>TP_STATUS_REDACAO</th>\n",
       "      <th>COMP1</th>\n",
       "      <th>COMP2</th>\n",
       "      <th>COMP3</th>\n",
       "      <th>COMP4</th>\n",
       "      <th>COMP5</th>\n",
       "      <th>NOTA_REDACAO</th>\n",
       "      <th>INTERNET</th>\n",
       "      <th>previsao</th>\n",
       "    </tr>\n",
       "  </thead>\n",
       "  <tbody>\n",
       "    <tr>\n",
       "      <th>0</th>\n",
       "      <td>1,90E+11</td>\n",
       "      <td>Santa Isabel</td>\n",
       "      <td>22</td>\n",
       "      <td>M</td>\n",
       "      <td>1</td>\n",
       "      <td>parda</td>\n",
       "      <td>1</td>\n",
       "      <td>1</td>\n",
       "      <td>não_respondeu</td>\n",
       "      <td>1</td>\n",
       "      <td>...</td>\n",
       "      <td>Inglês</td>\n",
       "      <td>1.0</td>\n",
       "      <td>160.0</td>\n",
       "      <td>200.0</td>\n",
       "      <td>180.0</td>\n",
       "      <td>200.0</td>\n",
       "      <td>200.0</td>\n",
       "      <td>940.0</td>\n",
       "      <td>Sim</td>\n",
       "      <td>940.0</td>\n",
       "    </tr>\n",
       "    <tr>\n",
       "      <th>1</th>\n",
       "      <td>1,90E+11</td>\n",
       "      <td>São Paulo</td>\n",
       "      <td>17</td>\n",
       "      <td>F</td>\n",
       "      <td>1</td>\n",
       "      <td>parda</td>\n",
       "      <td>1</td>\n",
       "      <td>2</td>\n",
       "      <td>privada</td>\n",
       "      <td>1</td>\n",
       "      <td>...</td>\n",
       "      <td>Inglês</td>\n",
       "      <td>1.0</td>\n",
       "      <td>160.0</td>\n",
       "      <td>120.0</td>\n",
       "      <td>200.0</td>\n",
       "      <td>200.0</td>\n",
       "      <td>200.0</td>\n",
       "      <td>880.0</td>\n",
       "      <td>Não</td>\n",
       "      <td>880.0</td>\n",
       "    </tr>\n",
       "    <tr>\n",
       "      <th>2</th>\n",
       "      <td>1,90E+11</td>\n",
       "      <td>São Bernardo do Campo</td>\n",
       "      <td>19</td>\n",
       "      <td>M</td>\n",
       "      <td>1</td>\n",
       "      <td>parda</td>\n",
       "      <td>1</td>\n",
       "      <td>2</td>\n",
       "      <td>pública</td>\n",
       "      <td>1</td>\n",
       "      <td>...</td>\n",
       "      <td>Espanhol</td>\n",
       "      <td>1.0</td>\n",
       "      <td>80.0</td>\n",
       "      <td>160.0</td>\n",
       "      <td>120.0</td>\n",
       "      <td>100.0</td>\n",
       "      <td>100.0</td>\n",
       "      <td>560.0</td>\n",
       "      <td>Sim</td>\n",
       "      <td>560.0</td>\n",
       "    </tr>\n",
       "    <tr>\n",
       "      <th>3</th>\n",
       "      <td>1,90E+11</td>\n",
       "      <td>Embu-Guaçu</td>\n",
       "      <td>17</td>\n",
       "      <td>F</td>\n",
       "      <td>1</td>\n",
       "      <td>parda</td>\n",
       "      <td>1</td>\n",
       "      <td>2</td>\n",
       "      <td>pública</td>\n",
       "      <td>1</td>\n",
       "      <td>...</td>\n",
       "      <td>Inglês</td>\n",
       "      <td>1.0</td>\n",
       "      <td>120.0</td>\n",
       "      <td>120.0</td>\n",
       "      <td>120.0</td>\n",
       "      <td>120.0</td>\n",
       "      <td>80.0</td>\n",
       "      <td>560.0</td>\n",
       "      <td>Sim</td>\n",
       "      <td>560.0</td>\n",
       "    </tr>\n",
       "    <tr>\n",
       "      <th>4</th>\n",
       "      <td>1,90E+11</td>\n",
       "      <td>Guarulhos</td>\n",
       "      <td>23</td>\n",
       "      <td>F</td>\n",
       "      <td>1</td>\n",
       "      <td>branca</td>\n",
       "      <td>1</td>\n",
       "      <td>1</td>\n",
       "      <td>não_respondeu</td>\n",
       "      <td>1</td>\n",
       "      <td>...</td>\n",
       "      <td>Inglês</td>\n",
       "      <td>1.0</td>\n",
       "      <td>160.0</td>\n",
       "      <td>200.0</td>\n",
       "      <td>180.0</td>\n",
       "      <td>180.0</td>\n",
       "      <td>160.0</td>\n",
       "      <td>880.0</td>\n",
       "      <td>Sim</td>\n",
       "      <td>880.0</td>\n",
       "    </tr>\n",
       "  </tbody>\n",
       "</table>\n",
       "<p>5 rows × 27 columns</p>\n",
       "</div>"
      ],
      "text/plain": [
       "  NU_INSCRICAO NO_MUNICIPIO_RESIDENCIA  IDADE SEXO  TP_ESTADO_CIVIL    RACA  \\\n",
       "0     1,90E+11            Santa Isabel     22    M                1   parda   \n",
       "1     1,90E+11               São Paulo     17    F                1   parda   \n",
       "2     1,90E+11   São Bernardo do Campo     19    M                1   parda   \n",
       "3     1,90E+11              Embu-Guaçu     17    F                1   parda   \n",
       "4     1,90E+11               Guarulhos     23    F                1  branca   \n",
       "\n",
       "   TP_NACIONALIDADE  TP_ST_CONCLUSAO         ESCOLA  TP_PRESENCA_CN  ...  \\\n",
       "0                 1                1  não_respondeu               1  ...   \n",
       "1                 1                2        privada               1  ...   \n",
       "2                 1                2        pública               1  ...   \n",
       "3                 1                2        pública               1  ...   \n",
       "4                 1                1  não_respondeu               1  ...   \n",
       "\n",
       "   TP_LINGUA  TP_STATUS_REDACAO  COMP1  COMP2  COMP3  COMP4  COMP5  \\\n",
       "0     Inglês                1.0  160.0  200.0  180.0  200.0  200.0   \n",
       "1     Inglês                1.0  160.0  120.0  200.0  200.0  200.0   \n",
       "2   Espanhol                1.0   80.0  160.0  120.0  100.0  100.0   \n",
       "3     Inglês                1.0  120.0  120.0  120.0  120.0   80.0   \n",
       "4     Inglês                1.0  160.0  200.0  180.0  180.0  160.0   \n",
       "\n",
       "  NOTA_REDACAO  INTERNET  previsao  \n",
       "0        940.0       Sim     940.0  \n",
       "1        880.0       Não     880.0  \n",
       "2        560.0       Sim     560.0  \n",
       "3        560.0       Sim     560.0  \n",
       "4        880.0       Sim     880.0  \n",
       "\n",
       "[5 rows x 27 columns]"
      ]
     },
     "execution_count": 39,
     "metadata": {},
     "output_type": "execute_result"
    }
   ],
   "source": [
    "base2.head()"
   ]
  },
  {
   "cell_type": "markdown",
   "metadata": {},
   "source": [
    "com sklearn\n"
   ]
  },
  {
   "cell_type": "code",
   "execution_count": 42,
   "metadata": {},
   "outputs": [],
   "source": [
    "from sklearn.linear_model import LinearRegression"
   ]
  },
  {
   "cell_type": "code",
   "execution_count": 43,
   "metadata": {},
   "outputs": [],
   "source": [
    "independente = base2[['IDADE','TP_ST_CONCLUSAO','COMP1','COMP2','COMP3','COMP4','COMP5']]\n",
    "dependente = base2[['NOTA_REDACAO']]"
   ]
  },
  {
   "cell_type": "code",
   "execution_count": 44,
   "metadata": {},
   "outputs": [
    {
     "data": {
      "text/html": [
       "<style>#sk-container-id-1 {color: black;background-color: white;}#sk-container-id-1 pre{padding: 0;}#sk-container-id-1 div.sk-toggleable {background-color: white;}#sk-container-id-1 label.sk-toggleable__label {cursor: pointer;display: block;width: 100%;margin-bottom: 0;padding: 0.3em;box-sizing: border-box;text-align: center;}#sk-container-id-1 label.sk-toggleable__label-arrow:before {content: \"▸\";float: left;margin-right: 0.25em;color: #696969;}#sk-container-id-1 label.sk-toggleable__label-arrow:hover:before {color: black;}#sk-container-id-1 div.sk-estimator:hover label.sk-toggleable__label-arrow:before {color: black;}#sk-container-id-1 div.sk-toggleable__content {max-height: 0;max-width: 0;overflow: hidden;text-align: left;background-color: #f0f8ff;}#sk-container-id-1 div.sk-toggleable__content pre {margin: 0.2em;color: black;border-radius: 0.25em;background-color: #f0f8ff;}#sk-container-id-1 input.sk-toggleable__control:checked~div.sk-toggleable__content {max-height: 200px;max-width: 100%;overflow: auto;}#sk-container-id-1 input.sk-toggleable__control:checked~label.sk-toggleable__label-arrow:before {content: \"▾\";}#sk-container-id-1 div.sk-estimator input.sk-toggleable__control:checked~label.sk-toggleable__label {background-color: #d4ebff;}#sk-container-id-1 div.sk-label input.sk-toggleable__control:checked~label.sk-toggleable__label {background-color: #d4ebff;}#sk-container-id-1 input.sk-hidden--visually {border: 0;clip: rect(1px 1px 1px 1px);clip: rect(1px, 1px, 1px, 1px);height: 1px;margin: -1px;overflow: hidden;padding: 0;position: absolute;width: 1px;}#sk-container-id-1 div.sk-estimator {font-family: monospace;background-color: #f0f8ff;border: 1px dotted black;border-radius: 0.25em;box-sizing: border-box;margin-bottom: 0.5em;}#sk-container-id-1 div.sk-estimator:hover {background-color: #d4ebff;}#sk-container-id-1 div.sk-parallel-item::after {content: \"\";width: 100%;border-bottom: 1px solid gray;flex-grow: 1;}#sk-container-id-1 div.sk-label:hover label.sk-toggleable__label {background-color: #d4ebff;}#sk-container-id-1 div.sk-serial::before {content: \"\";position: absolute;border-left: 1px solid gray;box-sizing: border-box;top: 0;bottom: 0;left: 50%;z-index: 0;}#sk-container-id-1 div.sk-serial {display: flex;flex-direction: column;align-items: center;background-color: white;padding-right: 0.2em;padding-left: 0.2em;position: relative;}#sk-container-id-1 div.sk-item {position: relative;z-index: 1;}#sk-container-id-1 div.sk-parallel {display: flex;align-items: stretch;justify-content: center;background-color: white;position: relative;}#sk-container-id-1 div.sk-item::before, #sk-container-id-1 div.sk-parallel-item::before {content: \"\";position: absolute;border-left: 1px solid gray;box-sizing: border-box;top: 0;bottom: 0;left: 50%;z-index: -1;}#sk-container-id-1 div.sk-parallel-item {display: flex;flex-direction: column;z-index: 1;position: relative;background-color: white;}#sk-container-id-1 div.sk-parallel-item:first-child::after {align-self: flex-end;width: 50%;}#sk-container-id-1 div.sk-parallel-item:last-child::after {align-self: flex-start;width: 50%;}#sk-container-id-1 div.sk-parallel-item:only-child::after {width: 0;}#sk-container-id-1 div.sk-dashed-wrapped {border: 1px dashed gray;margin: 0 0.4em 0.5em 0.4em;box-sizing: border-box;padding-bottom: 0.4em;background-color: white;}#sk-container-id-1 div.sk-label label {font-family: monospace;font-weight: bold;display: inline-block;line-height: 1.2em;}#sk-container-id-1 div.sk-label-container {text-align: center;}#sk-container-id-1 div.sk-container {/* jupyter's `normalize.less` sets `[hidden] { display: none; }` but bootstrap.min.css set `[hidden] { display: none !important; }` so we also need the `!important` here to be able to override the default hidden behavior on the sphinx rendered scikit-learn.org. See: https://github.com/scikit-learn/scikit-learn/issues/21755 */display: inline-block !important;position: relative;}#sk-container-id-1 div.sk-text-repr-fallback {display: none;}</style><div id=\"sk-container-id-1\" class=\"sk-top-container\"><div class=\"sk-text-repr-fallback\"><pre>LinearRegression()</pre><b>In a Jupyter environment, please rerun this cell to show the HTML representation or trust the notebook. <br />On GitHub, the HTML representation is unable to render, please try loading this page with nbviewer.org.</b></div><div class=\"sk-container\" hidden><div class=\"sk-item\"><div class=\"sk-estimator sk-toggleable\"><input class=\"sk-toggleable__control sk-hidden--visually\" id=\"sk-estimator-id-1\" type=\"checkbox\" checked><label for=\"sk-estimator-id-1\" class=\"sk-toggleable__label sk-toggleable__label-arrow\">LinearRegression</label><div class=\"sk-toggleable__content\"><pre>LinearRegression()</pre></div></div></div></div></div>"
      ],
      "text/plain": [
       "LinearRegression()"
      ]
     },
     "execution_count": 44,
     "metadata": {},
     "output_type": "execute_result"
    }
   ],
   "source": [
    "modelo2 = LinearRegression()\n",
    "modelo2.fit(independente, dependente)"
   ]
  },
  {
   "cell_type": "code",
   "execution_count": 45,
   "metadata": {},
   "outputs": [
    {
     "data": {
      "text/plain": [
       "array([2.16004992e-12])"
      ]
     },
     "execution_count": 45,
     "metadata": {},
     "output_type": "execute_result"
    }
   ],
   "source": [
    "modelo2.intercept_"
   ]
  },
  {
   "cell_type": "markdown",
   "metadata": {},
   "source": []
  },
  {
   "cell_type": "code",
   "execution_count": 46,
   "metadata": {},
   "outputs": [
    {
     "data": {
      "text/plain": [
       "array([[-5.67495430e-14,  1.71391244e-12,  1.00000000e+00,\n",
       "         1.00000000e+00,  1.00000000e+00,  1.00000000e+00,\n",
       "         1.00000000e+00]])"
      ]
     },
     "execution_count": 46,
     "metadata": {},
     "output_type": "execute_result"
    }
   ],
   "source": [
    "modelo2.coef_"
   ]
  }
 ],
 "metadata": {
  "kernelspec": {
   "display_name": "base",
   "language": "python",
   "name": "python3"
  },
  "language_info": {
   "codemirror_mode": {
    "name": "ipython",
    "version": 3
   },
   "file_extension": ".py",
   "mimetype": "text/x-python",
   "name": "python",
   "nbconvert_exporter": "python",
   "pygments_lexer": "ipython3",
   "version": "3.11.7"
  }
 },
 "nbformat": 4,
 "nbformat_minor": 2
}
